{
 "cells": [
  {
   "cell_type": "markdown",
   "metadata": {},
   "source": [
    "# Introduction to Programming and Numerical analysis\n",
    "### Project 1 - analysis of C25 intraday stocks trades in week 12\n",
    " \n",
    "##### The project:\n",
    "In this project, we analyse the intraday trades with stock from the Danish C25 stock index. First, we will go through how we obtained the data. Then we visualize the data with interactive plots, and lastly, we examine the inttaday fluctuations.\n",
    "\n",
    "##### Data:\n",
    " The data used for the anaylys is obtain by scraping [Nordnet](http://www.nordnet.dk/). For every Nordic stock, Nordnet provides data on buyer, seller, quantity, price and time of purchase. However, Nordnet doesn’t have a database with the data and they do not store it. Therefore, it has been necessary to run the scraper everyday when the stock market closed as the days data was deleted the following morning. The code for the developed scraped is provided below."
   ]
  },
  {
   "cell_type": "markdown",
   "metadata": {},
   "source": [
    "## The scraper"
   ]
  },
  {
   "cell_type": "code",
   "execution_count": 1,
   "metadata": {},
   "outputs": [],
   "source": [
    "import requests\n",
    "import pandas as pd\n",
    "from bs4 import BeautifulSoup\n",
    "import matplotlib.pyplot as plt\n",
    "import matplotlib.dates as mdates\n",
    "import time\n",
    "from datetime import datetime, timedelta\n",
    "\n",
    "def nordnet_scraper(identifier, marketplace, save_path = None): \n",
    "    \n",
    "    \"\"\" \n",
    "    Function to download daily trades from Nordnet from specific\n",
    "    stock. At the moment, Nordnet is reconstructing their website,\n",
    "    so if this function doesn’t work, it could be due to a new \n",
    "    website layout.\n",
    "    \n",
    "    The scraper is developed for a project in \"Introduction to Programming \n",
    "    and Numerical analysis\" at Copenhagen University.\n",
    "    \n",
    "    If Nordnet doesn’t provides daily trade for a stock,\n",
    "    the data is collected from the graph. This means that there\n",
    "    is no data on buyer and seller, but simply the volumne and \n",
    "    price to a specific time.\n",
    "    \"\"\"\n",
    "    \n",
    "    # Check if input 'identifier' is a list\n",
    "    \n",
    "    if (isinstance(identifier, list)) == False:\n",
    "        raise ValueError('\"identifier\" must be a list! Ex. [\"3200\"]')\n",
    "\n",
    "    # Check if input 'marketplace' is a list\n",
    "    \n",
    "    if (isinstance(marketplace, list)) == False:\n",
    "        raise ValueError('\"marketplace\" must be a list! Ex. [\"14\"]')\n",
    "        \n",
    "    # Loop over pairs of identifier and marketplace\n",
    "    \n",
    "    for s, t in zip(identifier, marketplace):\n",
    "        \n",
    "        # Start timer to measure scraping time for each stock\n",
    "    \n",
    "        start = time.time()\n",
    "        Date = datetime.today().strftime('%Y-%m-%d')\n",
    "        \n",
    "        # Creating the URL to Nordnet\n",
    "\n",
    "        base_ = 'https://www.nordnet.dk/mux/popups/marknaden/aktiehemsidan/avslut.html?containerid=avslut&identifier=' \n",
    "        identifier_ = s\n",
    "        mid_ = '&marketplace='\n",
    "        marketplace_ = t\n",
    "        end_ = '&limit=100000'\n",
    "        url = base_ + identifier_ + mid_ + marketplace_ + end_\n",
    "        \n",
    "        # Request to Nordnet\n",
    "        \n",
    "        response = requests.get(url)\n",
    "        html = response.text\n",
    "        soup = BeautifulSoup(html,'html.parser')\n",
    "        \n",
    "        # Get theStock name\n",
    "        \n",
    "        Stock = soup.find('h1').text.strip().lstrip().replace('\\n','').replace('/',' ')\n",
    "        \n",
    "        # If the stock name is 'Information', then the identifier or marketsplace\n",
    "        #is wrong\n",
    "        \n",
    "        if Stock == 'Information':\n",
    "            raise ValueError('The information placed in \"identifier\"',\n",
    "                  'and/or \"marketplace\" does not correspond',\n",
    "                  'to any stock at Nordnet')\n",
    "        \n",
    "        # Get trade prices\n",
    "        \n",
    "        x = soup.find_all('span', {'class': ['kursPlus','kursNeutral','kursMinus']})\n",
    "        price = [i.text.strip() for i in x]\n",
    "        \n",
    "        # If the lenght of \"price\" is zero, then Nordnet doesn't provide\n",
    "        # daily trade dato for the stock. Instead, the data is collected\n",
    "        # from the graph.\n",
    "        \n",
    "        if len(price) == 0:\n",
    "            \n",
    "            # Creating new URL to Nordnet\n",
    "            \n",
    "            base_ = 'https://www.nordnet.dk/graph/instrument/'\n",
    "            marketplace_ = t + '/'\n",
    "            identifier_ = s + '?from='\n",
    "            date = Date + '&to=' + Date\n",
    "            end_ = '&fields=last,open,high,low,volume'\n",
    "            url = base_ + marketplace_ + identifier_+ date + end_\n",
    "            \n",
    "            # New request to Nordnet for graph data\n",
    "            \n",
    "            response = requests.get(url)\n",
    "            df = pd.DataFrame(response.json())\n",
    "            \n",
    "            # Create DataFrame and drop unwanted variables\n",
    "            \n",
    "            df.drop({'high','low', 'open'}, axis = 1, inplace = True)\n",
    "            df.columns = ['Price', 'Time', 'Quantity']\n",
    "            \n",
    "            # Convert MS to time and date\n",
    "            \n",
    "            df['Time'] = df['Time'].apply(lambda x: datetime.fromtimestamp(x/1000.0))\n",
    "            \n",
    "            # Print message\n",
    "            \n",
    "            print(\"Nordnet doesn’t provide data for each trade\",\n",
    "                  \"for this stock. This data is collected from the\",\n",
    "                  \"daily graph instead.\")\n",
    "        \n",
    "        else:\n",
    "            \"\"\"\n",
    "            This code get the daily trade when Nordnet provides them\n",
    "            \"\"\"\n",
    "            \n",
    "            # Get time of trade\n",
    "            \n",
    "            x = soup.find_all('td', {'class': 'last'})\n",
    "            time_ = [i.text.strip() for i in x]\n",
    "            \n",
    "            # Get seller and buyer\n",
    "            \n",
    "            x = soup.find_all('a', {'class': 'underline'})\n",
    "            firms = [i.attrs['title'] for i in x]\n",
    "            buyer_ = firms[::2]\n",
    "            seller_ = firms[1::2]\n",
    "            \n",
    "            # get traded quantity\n",
    "            \n",
    "            quan = soup.find_all('td')\n",
    "            x = quan[2::5]\n",
    "            quantity = [i.text for i in x]\n",
    "            \n",
    "            # create df\n",
    "            \n",
    "            df = pd.DataFrame(list(zip(buyer_, seller_, quantity, price, time_)),\n",
    "                              columns = ['Buyer', 'Seller', 'Quantity','Price', 'Time'])\n",
    "            \n",
    "            # data mining\n",
    "            \n",
    "            df['Quantity'] = pd.to_numeric(df['Quantity'].str.replace(\" \", \"\"))\n",
    "\n",
    "            try:\n",
    "                df['Price'] = df['Price'].str.replace(\" \", \"\")\n",
    "            except:\n",
    "                pass\n",
    "            try:\n",
    "                df['Price'] = df['Price'].str.replace(\",\", \".\")\n",
    "            except:\n",
    "                pass\n",
    "            \n",
    "            df['Price'] = pd.to_numeric(df['Price'])\n",
    "            \n",
    "            # If the scraper is used in the weekend, friday trades appear.\n",
    "            # Check if weekend\n",
    "            \n",
    "            weekday = datetime.today().weekday()\n",
    "            \n",
    "            # if saturday, then friday\n",
    "            \n",
    "            if weekday == 5:\n",
    "                Date = (datetime.today() - timedelta(days=1)).strftime('%Y-%m-%d')\n",
    "            \n",
    "            # if sunday, then friday\n",
    "            \n",
    "            if weekday == 6:\n",
    "                Date = (datetime.today() - timedelta(days=2)).strftime('%Y-%m-%d')\n",
    "            \n",
    "            # Create correct format for time variable  \n",
    "            \n",
    "            df['today'] = Date + ' ' + df['Time']\n",
    "            df['Time'] = df['today'].apply(lambda x: datetime.strptime(x,'%Y-%m-%d %H:%M:%S'))\n",
    "            df = df.drop(columns='today')\n",
    "            \n",
    "        # Get HH:MM to display on graph\n",
    "        \n",
    "        df['TimeStamp'] = pd.Series([val.time() for val in df['Time']])\n",
    "        \n",
    "        # Plotting the trades\n",
    "        \n",
    "        fig = plt.figure()\n",
    "        ax = fig.add_subplot(111)\n",
    "        ax.xaxis.set_major_formatter(mdates.DateFormatter('%H:%M'))\n",
    "        ax.plot_date(df['Time'], df['Price'], ls='-', marker= None, color = 'blue')\n",
    "        ax.set_title(Stock + ', ' + Date)\n",
    "        ax.set_ylabel('Price')\n",
    "        ax.set_xlabel('Time') \n",
    "        ax.grid(True)\n",
    "        fig.tight_layout()\n",
    "        \n",
    "        # Saving DataFrame to CSV file\n",
    "        \n",
    "        if save_path != 0:\n",
    "            # Save to csv file\n",
    "            path = save_path\n",
    "            link_name = Date + ' ' + Stock\n",
    "            end_ = '.csv'\n",
    "            link = path + link_name + end_\n",
    "            try:\n",
    "                df.to_csv(link)\n",
    "            except:\n",
    "                raise ValueError('Error saving file. Check path!')   \n",
    "            \n",
    "        # End timer and print total time\n",
    "        \n",
    "        end = time.time()\n",
    "        print(round(end - start,1),'secs to return', len(df), 'trades of', Stock)\n",
    "    \n",
    "    # Return DataFrame\n",
    "    \n",
    "    return df"
   ]
  },
  {
   "cell_type": "markdown",
   "metadata": {},
   "source": [
    "## Data mining"
   ]
  },
  {
   "cell_type": "markdown",
   "metadata": {},
   "source": [
    "Each stock’s URL on Nordnet has a unique combination of *identifier* and *marketplace*, which is used in the scraper-function. The combinations for the C25-index is listed below."
   ]
  },
  {
   "cell_type": "code",
   "execution_count": null,
   "metadata": {},
   "outputs": [],
   "source": [
    "identifier = ['3200','3201','3331','1596','75663',\n",
    "              '3203','1586','3415','3207','11143',\n",
    "              '3205','80901','1587','3853','1158',\n",
    "              '11273','77855','3456','3273','4806',\n",
    "              '3366','31315','3258','3247','122544']\n",
    "\n",
    "marketplace = ['14','14','14','14','14',\n",
    "               '14','14','14','14','14',\n",
    "               '14','14','14','14','14',\n",
    "               '14','14','14','14','14',\n",
    "               '14','14','14','14','14']\n",
    "\n",
    "df = nordnet_scraper(identifier, marketplace, 'YOUR FOLDER')"
   ]
  },
  {
   "cell_type": "markdown",
   "metadata": {},
   "source": [
    "We now have 125 files as we have intraday trade data for 25 stocks and 5 days. To get it all into one DataFrame, we run the following code"
   ]
  },
  {
   "cell_type": "code",
   "execution_count": null,
   "metadata": {},
   "outputs": [],
   "source": [
    "import glob\n",
    "\n",
    "path = r'YOUR FOLDER'\n",
    "all_files = glob.glob(path + \"/*.csv\")\n",
    "\n",
    "names = []\n",
    "\n",
    "for i in all_files:\n",
    "    name = \" \".join(i.split()[1:]).split(\"·\")[0]\n",
    "    names.append(name)\n",
    "\n",
    "li = []\n",
    "\n",
    "for idx, val in enumerate(all_files):\n",
    "    df = pd.read_csv(val, index_col=None, header=0, engine='python')\n",
    "    df['stock'] = names[idx]\n",
    "    li.append(df)\n",
    "\n",
    "frame = pd.concat(li, axis=0, ignore_index=True)\n",
    "\n",
    "frame.to_csv(r'YOUR FOLDER', encoding='latin-1')"
   ]
  },
  {
   "cell_type": "markdown",
   "metadata": {},
   "source": [
    "The final output is a dataset with 364.848 rows and 9 columns"
   ]
  },
  {
   "cell_type": "code",
   "execution_count": 2,
   "metadata": {},
   "outputs": [
    {
     "name": "stdout",
     "output_type": "stream",
     "text": [
      "   ID  ID_within_firm                   Buyer            Seller  Quantity  \\\n",
      "0   0               0  Enskilda Securities AB  Anonymous Broker         1   \n",
      "1   1               1  Enskilda Securities AB  Anonymous Broker        34   \n",
      "2   2               2  Enskilda Securities AB  Anonymous Broker        79   \n",
      "\n",
      "    Price                 Time TimeStamp                      stock  \n",
      "0  8395.0  2019-03-18 16:59:31  16:59:31  A.P. Møller - Mærsk A A S  \n",
      "1  8395.0  2019-03-18 16:59:31  16:59:31  A.P. Møller - Mærsk A A S  \n",
      "2  8395.0  2019-03-18 16:59:31  16:59:31  A.P. Møller - Mærsk A A S  \n",
      "(364848, 9)\n"
     ]
    }
   ],
   "source": [
    "data = pd.read_csv(r'data.csv', encoding='latin-1')\n",
    "\n",
    "# Changing the names of 2 of the ID-rows\n",
    "data.rename(columns = {'Unnamed: 0':'ID', 'Unnamed: 0.1':'ID_within_firm'}, inplace=True)\n",
    "\n",
    "# print\n",
    "print(data.head(3))\n",
    "print(data.shape)"
   ]
  },
  {
   "cell_type": "markdown",
   "metadata": {},
   "source": [
    "## Interactive plot"
   ]
  },
  {
   "cell_type": "markdown",
   "metadata": {},
   "source": [
    "In order to get an overview of how the price of the different stocks in C25 have develop throughout the week, we make an interactive plot that display the price of the stock as a function of time.  "
   ]
  },
  {
   "cell_type": "code",
   "execution_count": 3,
   "metadata": {},
   "outputs": [
    {
     "data": {
      "application/vnd.jupyter.widget-view+json": {
       "model_id": "79ca7471a2b24ff099e3e62ead9fe038",
       "version_major": 2,
       "version_minor": 0
      },
      "text/plain": [
       "interactive(children=(Dropdown(description='stock', options=('A.P. Møller - Mærsk A A S', 'A.P. Møller - Mærsk…"
      ]
     },
     "metadata": {},
     "output_type": "display_data"
    }
   ],
   "source": [
    "# Sort data\n",
    "data.sort_values(['stock','Time'], inplace=True) \n",
    "\n",
    "# Make an interactive plot\n",
    "import ipywidgets as widgets\n",
    "def plot(dataframe, stock): \n",
    "    I = dataframe['stock'] == stock\n",
    "    \n",
    "    ax=dataframe.loc[I,:].plot(x='Time', y='Price', style='-', legend='False')\n",
    "\n",
    "    \n",
    "widgets.interact(plot, \n",
    "    dataframe = widgets.fixed(data),\n",
    "    stock = widgets.Dropdown(description='stock', options=data.stock.unique(), value='A.P. Møller - Mærsk A A S')\n",
    "); "
   ]
  },
  {
   "cell_type": "markdown",
   "metadata": {},
   "source": [
    "From the plot above it is clear that, within week 12, the fluctuations in the price are substantial across the different stocks. As our data contains all executed trades in the C25-index in week 12 we would like to illustrate the daily fluctuations in the price of each stock. For that reason we add a \"day-drop\" to the interactive plot.    "
   ]
  },
  {
   "cell_type": "code",
   "execution_count": 4,
   "metadata": {},
   "outputs": [
    {
     "data": {
      "application/vnd.jupyter.widget-view+json": {
       "model_id": "8dfdda52e0204ae494d7c2bd75a82896",
       "version_major": 2,
       "version_minor": 0
      },
      "text/plain": [
       "interactive(children=(Dropdown(description='Stock', options=('A.P. Møller - Mærsk A A S', 'A.P. Møller - Mærsk…"
      ]
     },
     "metadata": {},
     "output_type": "display_data"
    }
   ],
   "source": [
    "# Create a column which contain the name of the day the given trade was executed\n",
    "data['Day_of_Week'] = pd.to_datetime(data['Time']).dt.weekday_name\n",
    "\n",
    "# Make an interactive plot with a \"stock\" and \"day\" dropdown\n",
    "def plot_e(dataframe, stock, Day_of_Week): \n",
    "    \n",
    "    I = (dataframe['stock'] == stock) & (dataframe['Day_of_Week'] == Day_of_Week)\n",
    "    \n",
    "    ax=dataframe.loc[I,:].plot(x='Time', y='Price', style='-', legend='False')\n",
    "    \n",
    "widgets.interact(plot_e, \n",
    "    dataframe = widgets.fixed(data),\n",
    "    stock = widgets.Dropdown(description='Stock', options=data.stock.unique(), value='A.P. Møller - Mærsk A A S'),\n",
    "    Day_of_Week = widgets.Dropdown(description='Day_of_Week', options=data.Day_of_Week.unique(), value='Monday'),\n",
    ");"
   ]
  },
  {
   "cell_type": "markdown",
   "metadata": {},
   "source": [
    "NB: There are a few extreme observations (outliers) in the data of a couple of stocks. We will make a comment on that in the next section. Also, due to the extrodinary event that William Demant Holding A/S chose to shorten their name to Demant A/S there are 26 stocks in the dropdown menu. Hence, William Demant Holding A/S only contains data for Monday, Tuesday and Wednesday while Demant A/S contains data for Thursday and Friday."
   ]
  },
  {
   "cell_type": "markdown",
   "metadata": {},
   "source": [
    "## Fluctuations analysis"
   ]
  },
  {
   "cell_type": "markdown",
   "metadata": {},
   "source": [
    "In this section, we will analyze the fluctuations in the prices of the stocks listed on C25.\n",
    "The aim of this analysis is to get a rough estimate of the importance of executing buyings or sellings at the right point of the day. We will calculate the average fluctuation in the price for each of the days for each of the stocks, and hence we will find the overall average. By including all of the stocks on C25 in an arbitrary week, we try to mitigate the risk of having the price pattern too much controlled by special events for one or more of the companies."
   ]
  },
  {
   "cell_type": "code",
   "execution_count": 6,
   "metadata": {},
   "outputs": [],
   "source": [
    "#Convert the Time-column to a datevariable \n",
    "data['Time'] = pd.to_datetime(data['Time']) \n",
    "\n",
    "#Set 'Time' as index-variable\n",
    "data = data.set_index('Time')"
   ]
  },
  {
   "cell_type": "markdown",
   "metadata": {},
   "source": [
    "In order to get an overview of the fluctuations in the stock prices during a day, we will have to define the upper and lower bounds of the trading price for each of the C25 stocks.\n",
    "Hence, e.g. on Monday 18th, we are interested in the highest price and the lowest price e.g. the A.P. Møller Mærsk stock has been traded at. For each of the stocks, we will then get a max-price and a min-price for each of the days in the week. In addition, we will find the mean price."
   ]
  },
  {
   "cell_type": "code",
   "execution_count": 7,
   "metadata": {},
   "outputs": [
    {
     "name": "stdout",
     "output_type": "stream",
     "text": [
      "stock                      Time  Time\n",
      "A.P. Møller - Mærsk A A S  0     18      8349.733645\n",
      "                           1     19      8489.071543\n",
      "                           2     20      8463.858921\n",
      "                           3     21      8379.468412\n",
      "                           4     22      8292.653552\n",
      "A.P. Møller - Mærsk B A S  0     18      8751.276428\n",
      "                           1     19      8910.696317\n",
      "                           2     20      8889.437338\n",
      "                           3     21      8792.056856\n",
      "                           4     22      8719.856735\n",
      "Name: Price, dtype: float64\n",
      "stock                      Time  Time\n",
      "A.P. Møller - Mærsk A A S  0     18      8295.0\n",
      "                           1     19      8320.0\n",
      "                           2     20      8410.0\n",
      "                           3     21      8315.0\n",
      "                           4     22      8250.0\n",
      "A.P. Møller - Mærsk B A S  0     18      8686.0\n",
      "                           1     19      8749.0\n",
      "                           2     20      8822.0\n",
      "                           3     21      8728.0\n",
      "                           4     22      8670.0\n",
      "Name: Price, dtype: float64\n",
      "stock                      Time  Time\n",
      "A.P. Møller - Mærsk A A S  0     18      8395.0\n",
      "                           1     19      8545.0\n",
      "                           2     20      8535.0\n",
      "                           3     21      8445.0\n",
      "                           4     22      8465.0\n",
      "A.P. Møller - Mærsk B A S  0     18      8794.0\n",
      "                           1     19      8970.0\n",
      "                           2     20      8976.0\n",
      "                           3     21      8880.0\n",
      "                           4     22      8896.0\n",
      "Name: Price, dtype: float64\n"
     ]
    }
   ],
   "source": [
    "# Generate new variable which holds the mean of the price for the individual stock for each day in the week\n",
    "data_grouped_mean = data['Price'].groupby([data.stock, data.index.dayofweek, data.index.day]).mean()\n",
    "print(data_grouped_mean.head(10))\n",
    "\n",
    "# Generate new variable which holds the lowest price the stock has been traded for during the day. (For Monday-Friday) \n",
    "data_grouped_min = data['Price'].groupby([data.stock, data.index.dayofweek, data.index.day]).min()\n",
    "print(data_grouped_min.head(10))\n",
    "\n",
    "# Generate new variable which holds the highest price the stock has been traded for during the day. (For Monday-Friday)\n",
    "data_grouped_max = data['Price'].groupby([data.stock, data.index.dayofweek, data.index.day]).max()\n",
    "print(data_grouped_max.head(10))"
   ]
  },
  {
   "cell_type": "markdown",
   "metadata": {},
   "source": [
    "From the sample print, we can see e.g. that the mean price of A.P. Møller Mærsk A was 8,349 dkk on Monday 18th, whereas the highest price was 8,395 dkk and the lowest price was 8,295 dkk.\n",
    "\n",
    "In the following, we will calculate the percentage difference between the highest and the lowest price in order to understand what it might potentially imply for the individual investor."
   ]
  },
  {
   "cell_type": "code",
   "execution_count": 8,
   "metadata": {},
   "outputs": [
    {
     "name": "stdout",
     "output_type": "stream",
     "text": [
      "stock                      Time  Time\n",
      "A.P. Møller - Mærsk A A S  0     18      1.205546\n",
      "                           1     19      2.704327\n",
      "                           2     20      1.486326\n",
      "                           3     21      1.563440\n",
      "                           4     22      2.606061\n",
      "A.P. Møller - Mærsk B A S  0     18      1.243380\n",
      "                           1     19      2.526003\n",
      "                           2     20      1.745636\n",
      "                           3     21      1.741522\n",
      "                           4     22      2.606690\n",
      "Name: Price, dtype: float64\n"
     ]
    }
   ],
   "source": [
    "# Calculate percentage difference between the lowest trading price during the day and the highest trading price during the day\n",
    "diff_max_min = ((data_grouped_max)-(data_grouped_min))/(data_grouped_min)*100\n",
    "\n",
    "# Print example on the change in prices during a day\n",
    "print(diff_max_min.head(10))"
   ]
  },
  {
   "cell_type": "markdown",
   "metadata": {},
   "source": [
    "Thus, the highest price tag for the A.P. Møller Mærsk A stock during the day on Monday the 18th was 1,2 % higher than the lowest price tag during the day.\n",
    "\n",
    "In order to get a rough estimate for the general fluctuation during the day, we will calculate the mean of percentage differences between all the days and all the C25 stocks."
   ]
  },
  {
   "cell_type": "code",
   "execution_count": 9,
   "metadata": {},
   "outputs": [
    {
     "name": "stdout",
     "output_type": "stream",
     "text": [
      "2.5321427794413625\n"
     ]
    }
   ],
   "source": [
    "# Mean of daily percentage difference between lowest and highest price between all days in week 12 and all C25 companies\n",
    "print(diff_max_min.mean())"
   ]
  },
  {
   "cell_type": "markdown",
   "metadata": {},
   "source": [
    "This result shows that for the C25 stocks in week 12, the highest trading price for a stock during a day is on average 2,53 % higher than the lowest trading price on the same day.\n",
    "\n",
    "This result cannot in any way guide the investor on when to execute planned trades, however, the result clarifies that it is definitely worth considering when to execute the trade.\n",
    "\n",
    "However, a few outliers gives this estimate an upwards biases. A few transactions within financial institutions shows price tags varying quite a lot from the market price, which results in a seemingly bigger difference between lowest and highest trading price."
   ]
  }
 ],
 "metadata": {
  "kernelspec": {
   "display_name": "Python 3",
   "language": "python",
   "name": "python3"
  },
  "language_info": {
   "codemirror_mode": {
    "name": "ipython",
    "version": 3
   },
   "file_extension": ".py",
   "mimetype": "text/x-python",
   "name": "python",
   "nbconvert_exporter": "python",
   "pygments_lexer": "ipython3",
   "version": "3.7.1"
  }
 },
 "nbformat": 4,
 "nbformat_minor": 2
}
