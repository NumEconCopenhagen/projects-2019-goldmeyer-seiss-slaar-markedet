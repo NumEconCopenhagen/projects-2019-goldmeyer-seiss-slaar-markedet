{
 "cells": [
  {
   "cell_type": "markdown",
   "metadata": {},
   "source": [
    "# Model project: The Meltzer-Richard Model"
   ]
  },
  {
   "cell_type": "code",
   "execution_count": 72,
   "metadata": {},
   "outputs": [],
   "source": [
    "# Import relevant packages\n",
    "import numpy as np\n",
    "import pandas as pd\n",
    "import re\n",
    "import math\n",
    "import scipy as sp\n",
    "from scipy import linalg, optimize, interpolate\n",
    "from scipy.stats import gamma, chi2, expon\n",
    "import sympy as sm\n",
    "from sympy import sympify\n",
    "import matplotlib.pyplot as plt\n",
    "\n",
    "\n",
    "sm.init_printing(use_unicode=True)"
   ]
  },
  {
   "cell_type": "markdown",
   "metadata": {},
   "source": [
    "## Setting up the model"
   ]
  },
  {
   "cell_type": "markdown",
   "metadata": {},
   "source": [
    "Consider a static economy producing a single commodity. There is a continuum of individuals, differing in one dimension only. As economic agents they  work and consume. As voters they evaluate a simple redistributive program that pays a lump sum to each individual, financed by a proportional income tax.\n",
    "\n",
    "The **preferences** of the i'th individual are quasi-linear and given by\n",
    "\n",
    "\\\\[ w_i = c_i + V(x_i), \\\\]\n",
    "\n",
    "where c and x denote consumption and leisure, respectively, and V(x) is a concave utility function. **The private budget constraint** is given by\n",
    "\n",
    "\\\\[ c_i \\leq (1-\\tau)l_i + f, \\\\]\n",
    "\n",
    "where $\\tau$ is the income tax rate, $l_i$ is individual labor supply and $f$ is a lump sum transfer. The real wage is normalized to 1.\n",
    "\n",
    "We assume that individual productivity differs and that productivity, in turn, is equivalent to having more \"effective time\" available. For that reason, individuals are also subject to a **time constraint**: \n",
    "\n",
    "\\\\[ 1 + e_i \\geq x_i + l_i, \\\\]\n",
    "\n",
    "where $e_i$ captures individual productivity - more productive individuals have a larger effective time endowment, $e_i$. We further assume that $e_i$ is distributed according to a known distribution function with mean $e$ and median $e_m < e$"
   ]
  },
  {
   "cell_type": "markdown",
   "metadata": {},
   "source": [
    "First, we define all symbols and equations that we are going to use:"
   ]
  },
  {
   "cell_type": "code",
   "execution_count": 73,
   "metadata": {},
   "outputs": [],
   "source": [
    "# Define symbols\n",
    "\n",
    "w = sm.symbols('w_i')\n",
    "c = sm.symbols('c_i')\n",
    "x = sm.symbols('x_i')\n",
    "tau = sm.symbols('tau')\n",
    "l = sm.symbols('l_i')\n",
    "f = sm.symbols('f')\n",
    "ei = sm.symbols('e_i')\n",
    "e = sm.symbols('e')\n",
    "V = sm.symbols('V(x_i)')"
   ]
  },
  {
   "cell_type": "code",
   "execution_count": 74,
   "metadata": {},
   "outputs": [
    {
     "data": {
      "image/png": "[encoded data removed]",
      "text/latex": [
       "$$w_{i} = c_{i} + \\log{\\left (x_{i} \\right )}$$"
      ],
      "text/plain": [
       "wᵢ = cᵢ + log(xᵢ)"
      ]
     },
     "execution_count": 74,
     "metadata": {},
     "output_type": "execute_result"
    }
   ],
   "source": [
    "# Define preferences and the utility function, V(x)\n",
    "V = sm.ln(x)\n",
    "preferences = sm.Eq(w, c + V)\n",
    "preferences"
   ]
  },
  {
   "cell_type": "code",
   "execution_count": 75,
   "metadata": {},
   "outputs": [
    {
     "data": {
      "image/png": "[encoded data removed]",
      "text/latex": [
       "$$c_{i} + \\log{\\left (x_{i} \\right )}$$"
      ],
      "text/plain": [
       "cᵢ + log(xᵢ)"
      ]
     },
     "execution_count": 75,
     "metadata": {},
     "output_type": "execute_result"
    }
   ],
   "source": [
    "# We define the preferences as a sympy-function instead of an equation:\n",
    "w = c + V\n",
    "w"
   ]
  },
  {
   "cell_type": "code",
   "execution_count": 76,
   "metadata": {},
   "outputs": [
    {
     "data": {
      "image/png": "[encoded data removed]",
      "text/latex": [
       "$$c_{i} = f + l_{i} \\left(- \\tau + 1\\right)$$"
      ],
      "text/plain": [
       "cᵢ = f + lᵢ⋅(-τ + 1)"
      ]
     },
     "execution_count": 76,
     "metadata": {},
     "output_type": "execute_result"
    }
   ],
   "source": [
    "# Define the privat budget constraint\n",
    "privat_BC = sm.Eq(c, (1-tau)*l + f)\n",
    "privat_BC"
   ]
  },
  {
   "cell_type": "code",
   "execution_count": 561,
   "metadata": {},
   "outputs": [
    {
     "data": {
      "image/png": "[encoded data removed]",
      "text/latex": [
       "$$e_{i} + 1 = l_{i} + x_{i}$$"
      ],
      "text/plain": [
       "eᵢ + 1 = lᵢ + xᵢ"
      ]
     },
     "execution_count": 561,
     "metadata": {},
     "output_type": "execute_result"
    }
   ],
   "source": [
    "# Define the privat time constraint\n",
    "privat_timecons = sm.Eq(1 + ei, x + l)\n",
    "privat_timecons"
   ]
  },
  {
   "cell_type": "markdown",
   "metadata": {},
   "source": [
    "Next, we solve for leisure, $x_i$, and consumption, $c_i$, respectively, and substitute the expression into the utility function, $w_i$."
   ]
  },
  {
   "cell_type": "code",
   "execution_count": 77,
   "metadata": {},
   "outputs": [
    {
     "data": {
      "image/png": "[encoded data removed]",
      "text/latex": [
       "$$f - l_{i} \\tau + l_{i} + \\log{\\left (e_{i} - l_{i} + 1 \\right )}$$"
      ],
      "text/plain": [
       "f - lᵢ⋅τ + lᵢ + log(eᵢ - lᵢ + 1)"
      ]
     },
     "execution_count": 77,
     "metadata": {},
     "output_type": "execute_result"
    }
   ],
   "source": [
    "# Solve for x\n",
    "x_from_privat_timecons = sm.solve(privat_timecons,x)\n",
    "\n",
    "# Solve for c\n",
    "c_from_privat_BC = sm.solve(privat_BC,c)\n",
    "\n",
    "# Substitute into w\n",
    "w_subs = w.subs([(x,x_from_privat_timecons[0]), (c,c_from_privat_BC[0])])\n",
    "w_subs"
   ]
  },
  {
   "cell_type": "markdown",
   "metadata": {},
   "source": [
    "The individual is thus facing the following maximazation problem\n",
    "\n",
    "\\\\[ \\max_{l_i} w_i = (1-\\tau)l_i + f + V(1+e_i-l_i)\\\\]\n",
    "\n",
    "By solving the maximazation problem we can find the individual labor supply, $l_i$"
   ]
  },
  {
   "cell_type": "code",
   "execution_count": 78,
   "metadata": {},
   "outputs": [
    {
     "data": {
      "image/png": "[encoded data removed]",
      "text/latex": [
       "$$- \\tau + 1 - \\frac{1}{e_{i} - l_{i} + 1}$$"
      ],
      "text/plain": [
       "              1     \n",
       "-τ + 1 - ───────────\n",
       "         eᵢ - lᵢ + 1"
      ]
     },
     "execution_count": 78,
     "metadata": {},
     "output_type": "execute_result"
    }
   ],
   "source": [
    "# Diffrentiate with respect to labor supply\n",
    "FOC = sm.diff(w_subs,l)\n",
    "FOC"
   ]
  },
  {
   "cell_type": "code",
   "execution_count": 79,
   "metadata": {},
   "outputs": [
    {
     "data": {
      "image/png": "[encoded data removed]",
      "text/latex": [
       "$$\\left [ \\frac{e_{i} \\tau - e_{i} + \\tau}{\\tau - 1}\\right ]$$"
      ],
      "text/plain": [
       "⎡eᵢ⋅τ - eᵢ + τ⎤\n",
       "⎢─────────────⎥\n",
       "⎣    τ - 1    ⎦"
      ]
     },
     "execution_count": 79,
     "metadata": {},
     "output_type": "execute_result"
    }
   ],
   "source": [
    "# Isolating labor supply\n",
    "laborsupply = sm.solve(FOC,l) \n",
    "laborsupply"
   ]
  },
  {
   "cell_type": "markdown",
   "metadata": {},
   "source": [
    "Which can also be stated as\n",
    "\n",
    "\\\\[ l_i = 1 + e_i - \\frac{1}{1-\\tau}\\\\]\n",
    "\n",
    "This expression shows that labor supply is decreasing in $\\tau$. In other words, a higher tax rate distorts the labor-leisure choice and induces the consumer to work less.\n",
    "\n",
    "We also introduce the average labor supply, which is given by\n",
    "\n",
    "\\\\[ L(\\tau) = 1 + e - \\frac{1}{1-\\tau}\\\\]\n",
    "\n",
    "This means that we can state individual labor supply as\n",
    "\n",
    "\\\\[ l_i = L(\\tau) + (e_i - e)\\\\]\n",
    "\n",
    "Lastly, we state the government's budget constrain which is given by \n",
    "\n",
    "\\\\[ f \\leq \\tau L(\\tau)\\\\]\n",
    "\n",
    "\n",
    "We re-write the labor supply and government's budget as a sympy-function"
   ]
  },
  {
   "cell_type": "code",
   "execution_count": 80,
   "metadata": {},
   "outputs": [
    {
     "data": {
      "image/png": "[encoded data removed]",
      "text/latex": [
       "$$- e + e_{i} + L{\\left (\\tau \\right )}$$"
      ],
      "text/plain": [
       "-e + eᵢ + L(τ)"
      ]
     },
     "execution_count": 80,
     "metadata": {},
     "output_type": "execute_result"
    }
   ],
   "source": [
    "# Reformulating labor supply\n",
    "L = sm.Function('L')(tau)\n",
    "laborsupply = L + (ei-e)\n",
    "laborsupply"
   ]
  },
  {
   "cell_type": "code",
   "execution_count": 81,
   "metadata": {},
   "outputs": [
    {
     "data": {
      "image/png": "[encoded data removed]",
      "text/latex": [
       "$$\\tau L{\\left (\\tau \\right )}$$"
      ],
      "text/plain": [
       "τ⋅L(τ)"
      ]
     },
     "execution_count": 81,
     "metadata": {},
     "output_type": "execute_result"
    }
   ],
   "source": [
    "# Defining the government's budget constraint\n",
    "government_BC = tau*L\n",
    "government_BC"
   ]
  },
  {
   "cell_type": "markdown",
   "metadata": {},
   "source": [
    "We now substitute all of this back into $w_i$ to obtain the indirect utility function which is then a function of redistributive policy $\\tau$ :"
   ]
  },
  {
   "cell_type": "code",
   "execution_count": 82,
   "metadata": {},
   "outputs": [
    {
     "data": {
      "image/png": "[encoded data removed]",
      "text/latex": [
       "$$e \\tau - e - e_{i} \\tau + e_{i} + L{\\left (\\tau \\right )} + \\log{\\left (e - L{\\left (\\tau \\right )} + 1 \\right )}$$"
      ],
      "text/plain": [
       "e⋅τ - e - eᵢ⋅τ + eᵢ + L(τ) + log(e - L(τ) + 1)"
      ]
     },
     "execution_count": 82,
     "metadata": {},
     "output_type": "execute_result"
    }
   ],
   "source": [
    "# Substituting laborsupply and the government's budget constraint into w\n",
    "indirect_utility = w_subs.subs([(l,laborsupply), (f,government_BC)])\n",
    "indirect_utility = sm.simplify(indirect_utility)\n",
    "indirect_utility"
   ]
  },
  {
   "cell_type": "markdown",
   "metadata": {},
   "source": [
    "This expression describes individual utility *given* the tax rate. However, as individuals differ they all prefer a different tax rate. By maximazing the indirect utility function with respect to $\\tau$, and afterwards isolating $\\tau$ we can obtain the preferred tax rate for individual $i$:"
   ]
  },
  {
   "cell_type": "code",
   "execution_count": 568,
   "metadata": {},
   "outputs": [
    {
     "data": {
      "image/png": "[encoded data removed]",
      "text/latex": [
       "$$e - e_{i} + \\frac{d}{d \\tau} L{\\left (\\tau \\right )} - \\frac{\\frac{d}{d \\tau} L{\\left (\\tau \\right )}}{e - L{\\left (\\tau \\right )} + 1}$$"
      ],
      "text/plain": [
       "                      d         \n",
       "                      ──(L(τ))  \n",
       "         d            dτ        \n",
       "e - eᵢ + ──(L(τ)) - ────────────\n",
       "         dτ         e - L(τ) + 1"
      ]
     },
     "execution_count": 568,
     "metadata": {},
     "output_type": "execute_result"
    }
   ],
   "source": [
    "# Diffrentiate with respect to labor supply\n",
    "pref_tax = sm.diff(indirect_utility, tau)\n",
    "pref_tax"
   ]
  },
  {
   "cell_type": "markdown",
   "metadata": {},
   "source": [
    "Next, we want to insert the expression for the average labor supple, $L(\\tau)$, while keeping the diffrentiated average labor as it is. However, we have struggled to do a \"proper\" substitution and for that reason we have chosen a qiute manual approach."
   ]
  },
  {
   "cell_type": "code",
   "execution_count": 83,
   "metadata": {},
   "outputs": [],
   "source": [
    "# Define diffrentiated average labor supply, explicitly\n",
    "L_diff = sm.diff(L,tau)"
   ]
  },
  {
   "cell_type": "code",
   "execution_count": 84,
   "metadata": {},
   "outputs": [
    {
     "data": {
      "image/png": "[encoded data removed]",
      "text/latex": [
       "$$0 = e - e_{i} - \\left(- \\tau + 1\\right) \\frac{d}{d \\tau} L{\\left (\\tau \\right )} + \\frac{d}{d \\tau} L{\\left (\\tau \\right )}$$"
      ],
      "text/plain": [
       "                      d          d       \n",
       "0 = e - eᵢ - (-τ + 1)⋅──(L(τ)) + ──(L(τ))\n",
       "                      dτ         dτ      "
      ]
     },
     "execution_count": 84,
     "metadata": {},
     "output_type": "execute_result"
    }
   ],
   "source": [
    "# Substitute this into the diffrentiated indirect utility function, pref_tax, by defining the equation once again \n",
    "pref_tax = sm.Eq(0,e-ei+L_diff-L_diff/(e-(1+e-(1/(1-tau)))+1))\n",
    "pref_tax"
   ]
  },
  {
   "cell_type": "code",
   "execution_count": 85,
   "metadata": {},
   "outputs": [
    {
     "data": {
      "image/png": "[encoded data removed]",
      "text/latex": [
       "$$\\left [ \\frac{- e + e_{i}}{\\frac{d}{d \\tau} L{\\left (\\tau \\right )}}\\right ]$$"
      ],
      "text/plain": [
       "⎡-e + eᵢ ⎤\n",
       "⎢────────⎥\n",
       "⎢d       ⎥\n",
       "⎢──(L(τ))⎥\n",
       "⎣dτ      ⎦"
      ]
     },
     "execution_count": 85,
     "metadata": {},
     "output_type": "execute_result"
    }
   ],
   "source": [
    "# Solve for the preferred tax rate for individual i\n",
    "pref_tax_solve = sm.solve(pref_tax,tau)\n",
    "pref_tax_solve"
   ]
  },
  {
   "cell_type": "markdown",
   "metadata": {},
   "source": [
    "This shows that our closed form solution can be written as\n",
    "\n",
    "\\\\[ \\tau_i = \\frac{e-e_i}{-\\frac{d}{d\\tau}L(\\tau)} \\\\]\n",
    "\n",
    "Recall that $\\frac{d}{d\\tau}L(\\tau) < 0$. This means that an individual with productivity, and hence income, *below* average will prefer a positive tax rate that is larger the poorer that individual is (the larger is $(e-e_i)$. On the other hand, an individual with productivity *above* average will prefer a negative tax rate (income subsidy, $\\tau<0$),  financed by a lump sum tax. "
   ]
  },
  {
   "cell_type": "markdown",
   "metadata": {},
   "source": [
    "To illustrate this relationship we plot the preferred tax rate as a function of individual productivity, $e_i$"
   ]
  },
  {
   "cell_type": "code",
   "execution_count": 86,
   "metadata": {},
   "outputs": [
    {
     "data": {
      "image/png": "[encoded data removed]",
      "text/latex": [
       "$$- \\left(- e + e_{i}\\right) \\left(- \\tau + 1\\right)^{2}$$"
      ],
      "text/plain": [
       "                   2\n",
       "-(-e + eᵢ)⋅(-τ + 1) "
      ]
     },
     "execution_count": 86,
     "metadata": {},
     "output_type": "execute_result"
    }
   ],
   "source": [
    "# Define the function L\n",
    "L = (1+e-1/(1-tau))\n",
    "\n",
    "# Differentiate L and define the closed form solution, pref_tax, as a function\n",
    "L_diff = sm.diff(L, tau)\n",
    "pref_tax = (-e+ei)/(L_diff)\n",
    "pref_tax"
   ]
  },
  {
   "cell_type": "code",
   "execution_count": 87,
   "metadata": {},
   "outputs": [
    {
     "data": {
      "image/png": "[encoded data removed]",
      "text/plain": [
       "<Figure size 432x288 with 1 Axes>"
      ]
     },
     "metadata": {
      "needs_background": "light"
     },
     "output_type": "display_data"
    }
   ],
   "source": [
    "# Turn the function into a python function\n",
    "pref_tax_func = sm.lambdify((e,ei,tau), pref_tax)\n",
    "\n",
    "# create input-value\n",
    "e = 5\n",
    "tau = 0.4\n",
    "ei_list = [0,1,2,3,4,5,6,7,8,9,10]\n",
    "pref_tax_list = [] # empty list\n",
    "for x in ei_list:\n",
    "    pref_tax_list.append(pref_tax_func(e,x,tau))\n",
    "    \n",
    "# plot\n",
    "fig = plt.figure()\n",
    "ax = fig.add_subplot(1,1,1)\n",
    "ax.plot(ei_list,pref_tax_list)\n",
    "ax.grid()\n",
    "ax.set_xlabel('Individual productvity, $e_i$')\n",
    "ax.set_ylabel('$tau$')\n",
    "ax.set_title('Preferred level of redistribution')\n",
    "ax.set_xlim([0,10])\n",
    "ax.set_ylim([-2,2]);"
   ]
  },
  {
   "cell_type": "markdown",
   "metadata": {},
   "source": [
    "This figure clearly illustrates that the preferred tax rate is a negative function of individual productivity and hence income.\n",
    "\n",
    "As all individuals in this model differs and thus prefers a different tax rate the interesting question is what tax rate will be chosen? To answer this question we assume that two political candidates (who only care about winning the election) are running for office and committing themselves to electoral platforms formulated over the tax rate. Whoever wins the election eneacts the preannounced policy.\n",
    "\n",
    "Next, we introduce and apply the *median voter theorem*, which in short (and imprecise) terms says that the only relevant person in the electorate is the median voter. The median voter is decisive because (under the assmuption that preferences are monotonic in $e_i$) if that person agrees to a policy then at least half of the electorate will also prefer that policy over an alternative policy which is further away from the median. Hence, if either of the candidates were to announce a policy $\\tau'$ that was different from $\\tau^m$ (the policy preferred by the median voter) the other candidate could ensure victory by announcing a policy in the interval $(\\tau',\\tau^m$). Thus, the equilibrium tax rate must coincide with the policy preferred by the median voter:\n",
    "\n",
    "\\\\[ \\tau_m = \\frac{e-e_m}{-\\frac{d}{d\\tau}L(\\tau)} \\\\]\n",
    "\n",
    "This result implies that the skewness of the income distribution influences the degree of redistribution in the society. "
   ]
  },
  {
   "cell_type": "markdown",
   "metadata": {},
   "source": [
    "## Model output"
   ]
  },
  {
   "cell_type": "markdown",
   "metadata": {},
   "source": [
    "The Meltzer-Richard Model as presented in 1.1 illustrates that the preferred degree of redistribution depends on the income distribution in the society. In specific, the model specifies that the relation between the mean income and the median income defines the preferred degree of redistribution. In the following we will apply the model in a simulation based on the income distribution distributed according to a gamma distribution, a chi2 distribution and an exponential distribution, respectively."
   ]
  },
  {
   "cell_type": "markdown",
   "metadata": {},
   "source": [
    "At first, we will illustrate it by dragging a mean and median from a gamma distribution and calculate the preferred redistribution. In the following section we will extend with the chi2 distribution and the exponential distribution."
   ]
  },
  {
   "cell_type": "code",
   "execution_count": 88,
   "metadata": {},
   "outputs": [
    {
     "name": "stdout",
     "output_type": "stream",
     "text": [
      " Mean: \n",
      " 5.002\n",
      "\n",
      " Median: \n",
      " 4.671\n",
      "\n",
      " τ: \n",
      " 0.1194\n"
     ]
    }
   ],
   "source": [
    "# Dataframe for draws from distribution\n",
    "df = pd.DataFrame()\n",
    "\n",
    "# draws from gamma distribution\n",
    "size = 200000\n",
    "df['gamma'] = gamma.rvs(5, size=size)\n",
    "\n",
    "# print median and mean\n",
    "tau_ = 0.4\n",
    "print(' Mean: \\n',round(df['gamma'].mean(),3))\n",
    "print('\\n Median: \\n',round(df['gamma'].median(),3))\n",
    "\n",
    "# print results\n",
    "print('\\n \\u03C4: \\n', round(pref_tax_func(df['gamma'].mean(),df['gamma'].median(),tau_),4))"
   ]
  },
  {
   "cell_type": "markdown",
   "metadata": {},
   "source": [
    "Thus, in a simple stylized model society where the mean income is 5 and the median income is 4.67, the preferred tax rate is 0,12. \n",
    "\n",
    "We will now drag mean and median from the other distributions as well, whereby we can show that the relation between the mean and the median (i.e. the skewness of the income distribution) defines the preferred tax rate according to this model and the median voter theorem."
   ]
  },
  {
   "cell_type": "code",
   "execution_count": 89,
   "metadata": {},
   "outputs": [
    {
     "name": "stdout",
     "output_type": "stream",
     "text": [
      " Mean: \n",
      " Gamma: 5.002 \n",
      " Chi2: 4.998 \n",
      " Exponential: 5.999\n",
      "\n",
      " Median: \n",
      " Gamma: 4.671 \n",
      " Chi2: 4.347 \n",
      " Exponential: 5.69\n"
     ]
    }
   ],
   "source": [
    "# draws from chi2 and exponential distribution\n",
    "df['chi2'] = chi2.rvs(5, size=size)\n",
    "df['expon'] = expon.rvs(5, size=size)\n",
    "\n",
    "# print mean and median\n",
    "print(' Mean: \\n Gamma:',round(df['gamma'].mean(),3),\n",
    "      '\\n Chi2:', round(df['chi2'].mean(),3),\n",
    "      '\\n Exponential:', round(df['expon'].mean(),3))\n",
    "\n",
    "print('\\n Median: \\n Gamma:',round(df['gamma'].median(),3),\n",
    "      '\\n Chi2:', round(df['chi2'].median(),3),\n",
    "      '\\n Exponential:', round(df['expon'].median(),3))"
   ]
  },
  {
   "cell_type": "markdown",
   "metadata": {},
   "source": [
    "\n",
    "The relation between the mean the median differs between the three distributions which we will illustrate in a figure below."
   ]
  },
  {
   "cell_type": "code",
   "execution_count": 90,
   "metadata": {},
   "outputs": [
    {
     "data": {
      "image/png": "[encoded data removed]",
      "text/plain": [
       "<Figure size 760x570 with 3 Axes>"
      ]
     },
     "metadata": {},
     "output_type": "display_data"
    }
   ],
   "source": [
    "# Add figure\n",
    "fig = plt.figure(figsize=(8, 6), dpi=95, facecolor='w', edgecolor='k')\n",
    "ax1 = fig.add_axes([0.1, 0.04, 0.3, 0.4])\n",
    "ax2 = fig.add_axes([0.5, 0.04, 0.3, 0.4])\n",
    "ax3 = fig.add_axes([0.9, 0.04, 0.3, 0.4])\n",
    "\n",
    "\n",
    "# subplot titles\n",
    "ax1.title.set_text('$\\mathrm{Gamma}$')\n",
    "ax2.title.set_text('$\\mathrm{Chi}$' +' '+'$\\mathrm{squared}$')\n",
    "ax3.title.set_text('$\\mathrm{Exponential}$')\n",
    "\n",
    "# plot distriutions\n",
    "ax1.hist(df['gamma'], color = 'grey', bins = 100)\n",
    "ax2.hist(df['chi2'], color = 'grey', bins = 100)\n",
    "ax3.hist(df['expon'], color = 'grey', bins = 100)\n",
    "\n",
    "# add median and mean lines \n",
    "ax1.axvline(df['gamma'].mean(), color='blue', linewidth=2)\n",
    "ax1.axvline(df['gamma'].median(), color='green', linewidth=2)\n",
    "\n",
    "# Add arrows annotating the means: \n",
    "x0 = df['gamma'].mean()\n",
    "ax1.annotate('Mean: {:0.2f}'.format(x0), xy=(x0, 1), xytext=(25, 25),\n",
    "            xycoords=('data', 'axes fraction'), textcoords='offset points',\n",
    "            horizontalalignment='left', verticalalignment='center',\n",
    "            arrowprops=dict(arrowstyle='-|>', fc='black', shrinkA=0, shrinkB=0,\n",
    "                            connectionstyle='angle,angleA=0,angleB=90,rad=10'),\n",
    "            )\n",
    "\n",
    "x0 = df['gamma'].median()\n",
    "ax1.annotate('Median: {:0.2f}'.format(x0), xy=(x0, 1), xytext=(-25, 25),\n",
    "            xycoords=('data', 'axes fraction'), textcoords='offset points',\n",
    "            horizontalalignment='right', verticalalignment='center',\n",
    "            arrowprops=dict(arrowstyle='-|>', fc='black', shrinkA=0, shrinkB=0,\n",
    "                            connectionstyle='angle,angleA=0,angleB=90,rad=10'),\n",
    "            )\n",
    "\n",
    "# add median and mean lines \n",
    "ax2.axvline(df['chi2'].mean(), color='blue', linewidth=2)\n",
    "ax2.axvline(df['chi2'].median(), color='green', linewidth=2)\n",
    "\n",
    "x0 = df['chi2'].mean()\n",
    "ax2.annotate('Mean: {:0.2f}'.format(x0), xy=(x0, 1), xytext=(25, 25),\n",
    "            xycoords=('data', 'axes fraction'), textcoords='offset points',\n",
    "            horizontalalignment='left', verticalalignment='center',\n",
    "            arrowprops=dict(arrowstyle='-|>', fc='black', shrinkA=0, shrinkB=0,\n",
    "                            connectionstyle='angle,angleA=0,angleB=90,rad=10'),\n",
    "            )\n",
    "\n",
    "x0 = df['chi2'].median()\n",
    "ax2.annotate('Median: {:0.2f}'.format(x0), xy=(x0, 1), xytext=(-25, 25),\n",
    "            xycoords=('data', 'axes fraction'), textcoords='offset points',\n",
    "            horizontalalignment='right', verticalalignment='center',\n",
    "            arrowprops=dict(arrowstyle='-|>', fc='black', shrinkA=0, shrinkB=0,\n",
    "                            connectionstyle='angle,angleA=0,angleB=90,rad=10'),\n",
    "            )\n",
    "\n",
    "# add median and mean lines \n",
    "ax3.axvline(df['expon'].mean(), color='blue', linewidth=2)\n",
    "ax3.axvline(df['expon'].median(), color='green', linewidth=2)\n",
    "\n",
    "x0 = df['expon'].mean()\n",
    "ax3.annotate('Mean: {:0.2f}'.format(x0), xy=(x0, 1), xytext=(25, 25),\n",
    "            xycoords=('data', 'axes fraction'), textcoords='offset points',\n",
    "            horizontalalignment='left', verticalalignment='center',\n",
    "            arrowprops=dict(arrowstyle='-|>', fc='black', shrinkA=0, shrinkB=0,\n",
    "                            connectionstyle='angle,angleA=0,angleB=90,rad=10'),\n",
    "            )\n",
    "\n",
    "x0 = df['expon'].median()\n",
    "ax3.annotate('Median: {:0.2f}'.format(x0), xy=(x0, 1), xytext=(-25, 25),\n",
    "            xycoords=('data', 'axes fraction'), textcoords='offset points',\n",
    "            horizontalalignment='right', verticalalignment='center',\n",
    "            arrowprops=dict(arrowstyle='-|>', fc='black', shrinkA=0, shrinkB=0,\n",
    "                            connectionstyle='angle,angleA=0,angleB=90,rad=10'),\n",
    "            )\n",
    "\n",
    "plt.show()"
   ]
  },
  {
   "cell_type": "markdown",
   "metadata": {},
   "source": [
    "From the figure, we notes that the chi2 distribution implies the biggest difference between the mean income and the median income, whereas the exponential distribution implies the smallest difference. As presented in 1.1, we will expect the preferred level of redistribution to be greater in the society illustrated by the chi2 distribution. This we will now test by calculating the preferred tax level for the three distributions."
   ]
  },
  {
   "cell_type": "code",
   "execution_count": 91,
   "metadata": {},
   "outputs": [
    {
     "name": "stdout",
     "output_type": "stream",
     "text": [
      "τ \n",
      ":gamma: 0.119 \n",
      "chi2: 0.234 \n",
      "expon: 0.111\n"
     ]
    }
   ],
   "source": [
    "# calculating results\n",
    "gamma = pref_tax_func(df['gamma'].mean(),df['gamma'].median(),tau_)\n",
    "chi2 = pref_tax_func(df['chi2'].mean(),df['chi2'].median(),tau_)\n",
    "expon = pref_tax_func(df['expon'].mean(),df['expon'].median(),tau_)\n",
    "\n",
    "#printing results\n",
    "print('\\u03C4 \\n:'\n",
    "      'gamma:', round(gamma,3), '\\n'\n",
    "     'chi2:', round(chi2,3), '\\n'\n",
    "     'expon:', round(expon,3))"
   ]
  },
  {
   "cell_type": "markdown",
   "metadata": {},
   "source": [
    "Thus, we can see that the preferred level of redistribution is greater in the model, where the difference between the mean and the median is bigger."
   ]
  }
 ],
 "metadata": {
  "kernelspec": {
   "display_name": "Python 3",
   "language": "python",
   "name": "python3"
  },
  "language_info": {
   "codemirror_mode": {
    "name": "ipython",
    "version": 3
   },
   "file_extension": ".py",
   "mimetype": "text/x-python",
   "name": "python",
   "nbconvert_exporter": "python",
   "pygments_lexer": "ipython3",
   "version": "3.7.1"
  }
 },
 "nbformat": 4,
 "nbformat_minor": 2
}
